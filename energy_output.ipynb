{
  "nbformat": 4,
  "nbformat_minor": 0,
  "metadata": {
    "colab": {
      "name": "energy output.ipynb",
      "provenance": [],
      "authorship_tag": "ABX9TyM8GJYAOElkrYZvQQBVgXaP",
      "include_colab_link": true
    },
    "kernelspec": {
      "name": "python3",
      "display_name": "Python 3"
    },
    "language_info": {
      "name": "python"
    }
  },
  "cells": [
    {
      "cell_type": "markdown",
      "metadata": {
        "id": "view-in-github",
        "colab_type": "text"
      },
      "source": [
        "<a href=\"https://colab.research.google.com/github/VigneshGowda-97/SRH-EaSTM/blob/main/energy_output.ipynb\" target=\"_parent\"><img src=\"https://colab.research.google.com/assets/colab-badge.svg\" alt=\"Open In Colab\"/></a>"
      ]
    },
    {
      "cell_type": "code",
      "metadata": {
        "id": "1qwWwsUBS7t3"
      },
      "source": [
        "import numpy as np\n",
        "import pandas as pd\n",
        "import tensorflow as tf\n"
      ],
      "execution_count": 1,
      "outputs": []
    },
    {
      "cell_type": "code",
      "metadata": {
        "colab": {
          "base_uri": "https://localhost:8080/",
          "height": 35
        },
        "id": "Rb3_efEHTc4x",
        "outputId": "0508b7a7-fad2-429d-ade3-bde696c595a4"
      },
      "source": [
        "tf.__git_version__"
      ],
      "execution_count": 2,
      "outputs": [
        {
          "output_type": "execute_result",
          "data": {
            "application/vnd.google.colaboratory.intrinsic+json": {
              "type": "string"
            },
            "text/plain": [
              "'v2.6.0-0-g919f693420e'"
            ]
          },
          "metadata": {},
          "execution_count": 2
        }
      ]
    },
    {
      "cell_type": "code",
      "metadata": {
        "colab": {
          "base_uri": "https://localhost:8080/"
        },
        "id": "8_zK93UXYaPZ",
        "outputId": "49c6632e-b374-4b49-81e8-3a7a57f1a630"
      },
      "source": [
        "dataset=pd.read_excel('Energyoutput.xlsx')\n",
        "x=dataset.iloc[:,:-1].values\n",
        "y=dataset.iloc[:,-1].values\n",
        "print(x)\n",
        "print(y)"
      ],
      "execution_count": 3,
      "outputs": [
        {
          "output_type": "stream",
          "name": "stdout",
          "text": [
            "[[  14.96   41.76 1024.07   73.17]\n",
            " [  25.18   62.96 1020.04   59.08]\n",
            " [   5.11   39.4  1012.16   92.14]\n",
            " ...\n",
            " [  31.32   74.33 1012.92   36.48]\n",
            " [  24.48   69.45 1013.86   62.39]\n",
            " [  21.6    62.52 1017.23   67.87]]\n",
            "[463.26 444.37 488.56 ... 429.57 435.74 453.28]\n"
          ]
        }
      ]
    },
    {
      "cell_type": "code",
      "metadata": {
        "id": "PDG6neP4ZI2w"
      },
      "source": [
        "# spliting the data set\n",
        "from sklearn.model_selection import train_test_split\n",
        "x_train,x_test,y_train,y_test=train_test_split(x,y,test_size=0.2)"
      ],
      "execution_count": 4,
      "outputs": []
    },
    {
      "cell_type": "code",
      "metadata": {
        "colab": {
          "base_uri": "https://localhost:8080/",
          "height": 421
        },
        "id": "ZMpOEAy8bUEB",
        "outputId": "6a8bf0b0-e063-481e-8dce-46d7b51aae89"
      },
      "source": [
        "# building ANN\n",
        "dataset.isnull()\n"
      ],
      "execution_count": 5,
      "outputs": [
        {
          "output_type": "execute_result",
          "data": {
            "text/html": [
              "<div>\n",
              "<style scoped>\n",
              "    .dataframe tbody tr th:only-of-type {\n",
              "        vertical-align: middle;\n",
              "    }\n",
              "\n",
              "    .dataframe tbody tr th {\n",
              "        vertical-align: top;\n",
              "    }\n",
              "\n",
              "    .dataframe thead th {\n",
              "        text-align: right;\n",
              "    }\n",
              "</style>\n",
              "<table border=\"1\" class=\"dataframe\">\n",
              "  <thead>\n",
              "    <tr style=\"text-align: right;\">\n",
              "      <th></th>\n",
              "      <th>AT</th>\n",
              "      <th>V</th>\n",
              "      <th>AP</th>\n",
              "      <th>RH</th>\n",
              "      <th>PE</th>\n",
              "    </tr>\n",
              "  </thead>\n",
              "  <tbody>\n",
              "    <tr>\n",
              "      <th>0</th>\n",
              "      <td>False</td>\n",
              "      <td>False</td>\n",
              "      <td>False</td>\n",
              "      <td>False</td>\n",
              "      <td>False</td>\n",
              "    </tr>\n",
              "    <tr>\n",
              "      <th>1</th>\n",
              "      <td>False</td>\n",
              "      <td>False</td>\n",
              "      <td>False</td>\n",
              "      <td>False</td>\n",
              "      <td>False</td>\n",
              "    </tr>\n",
              "    <tr>\n",
              "      <th>2</th>\n",
              "      <td>False</td>\n",
              "      <td>False</td>\n",
              "      <td>False</td>\n",
              "      <td>False</td>\n",
              "      <td>False</td>\n",
              "    </tr>\n",
              "    <tr>\n",
              "      <th>3</th>\n",
              "      <td>False</td>\n",
              "      <td>False</td>\n",
              "      <td>False</td>\n",
              "      <td>False</td>\n",
              "      <td>False</td>\n",
              "    </tr>\n",
              "    <tr>\n",
              "      <th>4</th>\n",
              "      <td>False</td>\n",
              "      <td>False</td>\n",
              "      <td>False</td>\n",
              "      <td>False</td>\n",
              "      <td>False</td>\n",
              "    </tr>\n",
              "    <tr>\n",
              "      <th>...</th>\n",
              "      <td>...</td>\n",
              "      <td>...</td>\n",
              "      <td>...</td>\n",
              "      <td>...</td>\n",
              "      <td>...</td>\n",
              "    </tr>\n",
              "    <tr>\n",
              "      <th>9563</th>\n",
              "      <td>False</td>\n",
              "      <td>False</td>\n",
              "      <td>False</td>\n",
              "      <td>False</td>\n",
              "      <td>False</td>\n",
              "    </tr>\n",
              "    <tr>\n",
              "      <th>9564</th>\n",
              "      <td>False</td>\n",
              "      <td>False</td>\n",
              "      <td>False</td>\n",
              "      <td>False</td>\n",
              "      <td>False</td>\n",
              "    </tr>\n",
              "    <tr>\n",
              "      <th>9565</th>\n",
              "      <td>False</td>\n",
              "      <td>False</td>\n",
              "      <td>False</td>\n",
              "      <td>False</td>\n",
              "      <td>False</td>\n",
              "    </tr>\n",
              "    <tr>\n",
              "      <th>9566</th>\n",
              "      <td>False</td>\n",
              "      <td>False</td>\n",
              "      <td>False</td>\n",
              "      <td>False</td>\n",
              "      <td>False</td>\n",
              "    </tr>\n",
              "    <tr>\n",
              "      <th>9567</th>\n",
              "      <td>False</td>\n",
              "      <td>False</td>\n",
              "      <td>False</td>\n",
              "      <td>False</td>\n",
              "      <td>False</td>\n",
              "    </tr>\n",
              "  </tbody>\n",
              "</table>\n",
              "<p>9568 rows × 5 columns</p>\n",
              "</div>"
            ],
            "text/plain": [
              "         AT      V     AP     RH     PE\n",
              "0     False  False  False  False  False\n",
              "1     False  False  False  False  False\n",
              "2     False  False  False  False  False\n",
              "3     False  False  False  False  False\n",
              "4     False  False  False  False  False\n",
              "...     ...    ...    ...    ...    ...\n",
              "9563  False  False  False  False  False\n",
              "9564  False  False  False  False  False\n",
              "9565  False  False  False  False  False\n",
              "9566  False  False  False  False  False\n",
              "9567  False  False  False  False  False\n",
              "\n",
              "[9568 rows x 5 columns]"
            ]
          },
          "metadata": {},
          "execution_count": 5
        }
      ]
    },
    {
      "cell_type": "code",
      "metadata": {
        "id": "bM51LCCdcyqG"
      },
      "source": [
        "ann=tf.keras.models.Sequential()"
      ],
      "execution_count": 6,
      "outputs": []
    },
    {
      "cell_type": "code",
      "metadata": {
        "id": "QbDmHDFydZqV"
      },
      "source": [
        "# add first hidden layer to input layer\n",
        "ann.add(tf.keras.layers.Dense(units=6,activation='relu'))"
      ],
      "execution_count": 7,
      "outputs": []
    },
    {
      "cell_type": "code",
      "metadata": {
        "id": "cu-g6mateZJk"
      },
      "source": [
        "ann.add(tf.keras.layers.Dense(units=6,activation='relu'))"
      ],
      "execution_count": 8,
      "outputs": []
    },
    {
      "cell_type": "code",
      "metadata": {
        "id": "ORkyLMn4ei1s"
      },
      "source": [
        "ann.add(tf.keras.layers.Dense(units=1))"
      ],
      "execution_count": 9,
      "outputs": []
    },
    {
      "cell_type": "code",
      "metadata": {
        "id": "64FUoftueu89"
      },
      "source": [
        "# train the ann \n",
        "ann.compile(optimizer='adam',loss='mean_squared_error')"
      ],
      "execution_count": 12,
      "outputs": []
    },
    {
      "cell_type": "code",
      "metadata": {
        "colab": {
          "base_uri": "https://localhost:8080/"
        },
        "id": "h22BFu86fXd9",
        "outputId": "af18df5a-7d23-4ce3-9127-366b7ef09c43"
      },
      "source": [
        "#training the ann model on the training dataset\n",
        "ann.fit(x_train,y_train,batch_size=32,epochs=100)"
      ],
      "execution_count": 13,
      "outputs": [
        {
          "output_type": "stream",
          "name": "stdout",
          "text": [
            "Epoch 1/100\n",
            "240/240 [==============================] - 1s 1ms/step - loss: 379.2441\n",
            "Epoch 2/100\n",
            "240/240 [==============================] - 0s 1ms/step - loss: 292.1873\n",
            "Epoch 3/100\n",
            "240/240 [==============================] - 0s 1ms/step - loss: 227.7293\n",
            "Epoch 4/100\n",
            "240/240 [==============================] - 0s 1ms/step - loss: 176.5171\n",
            "Epoch 5/100\n",
            "240/240 [==============================] - 0s 1ms/step - loss: 137.5247\n",
            "Epoch 6/100\n",
            "240/240 [==============================] - 0s 1ms/step - loss: 107.7656\n",
            "Epoch 7/100\n",
            "240/240 [==============================] - 0s 1ms/step - loss: 85.7322\n",
            "Epoch 8/100\n",
            "240/240 [==============================] - 0s 1ms/step - loss: 69.5169\n",
            "Epoch 9/100\n",
            "240/240 [==============================] - 0s 1ms/step - loss: 58.0885\n",
            "Epoch 10/100\n",
            "240/240 [==============================] - 0s 1ms/step - loss: 50.9697\n",
            "Epoch 11/100\n",
            "240/240 [==============================] - 0s 1ms/step - loss: 45.0365\n",
            "Epoch 12/100\n",
            "240/240 [==============================] - 0s 1ms/step - loss: 41.0596\n",
            "Epoch 13/100\n",
            "240/240 [==============================] - 0s 1ms/step - loss: 38.3863\n",
            "Epoch 14/100\n",
            "240/240 [==============================] - 0s 1ms/step - loss: 36.2269\n",
            "Epoch 15/100\n",
            "240/240 [==============================] - 0s 1ms/step - loss: 34.9029\n",
            "Epoch 16/100\n",
            "240/240 [==============================] - 0s 1ms/step - loss: 33.3914\n",
            "Epoch 17/100\n",
            "240/240 [==============================] - 0s 1ms/step - loss: 32.4682\n",
            "Epoch 18/100\n",
            "240/240 [==============================] - 0s 1ms/step - loss: 31.7842\n",
            "Epoch 19/100\n",
            "240/240 [==============================] - 0s 1ms/step - loss: 31.2692\n",
            "Epoch 20/100\n",
            "240/240 [==============================] - 0s 1ms/step - loss: 31.0584\n",
            "Epoch 21/100\n",
            "240/240 [==============================] - 0s 1ms/step - loss: 30.3961\n",
            "Epoch 22/100\n",
            "240/240 [==============================] - 0s 1ms/step - loss: 30.6281\n",
            "Epoch 23/100\n",
            "240/240 [==============================] - 0s 1ms/step - loss: 29.6960\n",
            "Epoch 24/100\n",
            "240/240 [==============================] - 0s 1ms/step - loss: 29.3967\n",
            "Epoch 25/100\n",
            "240/240 [==============================] - 0s 1ms/step - loss: 29.1624\n",
            "Epoch 26/100\n",
            "240/240 [==============================] - 0s 1ms/step - loss: 28.7042\n",
            "Epoch 27/100\n",
            "240/240 [==============================] - 0s 1ms/step - loss: 28.5364\n",
            "Epoch 28/100\n",
            "240/240 [==============================] - 0s 1ms/step - loss: 28.4724\n",
            "Epoch 29/100\n",
            "240/240 [==============================] - 0s 1ms/step - loss: 28.3764\n",
            "Epoch 30/100\n",
            "240/240 [==============================] - 0s 1ms/step - loss: 28.1051\n",
            "Epoch 31/100\n",
            "240/240 [==============================] - 0s 1ms/step - loss: 27.7832\n",
            "Epoch 32/100\n",
            "240/240 [==============================] - 0s 1ms/step - loss: 27.7632\n",
            "Epoch 33/100\n",
            "240/240 [==============================] - 0s 1ms/step - loss: 27.9088\n",
            "Epoch 34/100\n",
            "240/240 [==============================] - 0s 1ms/step - loss: 27.1096\n",
            "Epoch 35/100\n",
            "240/240 [==============================] - 0s 1ms/step - loss: 27.2759\n",
            "Epoch 36/100\n",
            "240/240 [==============================] - 0s 1ms/step - loss: 27.2208\n",
            "Epoch 37/100\n",
            "240/240 [==============================] - 0s 1ms/step - loss: 27.2282\n",
            "Epoch 38/100\n",
            "240/240 [==============================] - 0s 1ms/step - loss: 27.1368\n",
            "Epoch 39/100\n",
            "240/240 [==============================] - 0s 1ms/step - loss: 26.7796\n",
            "Epoch 40/100\n",
            "240/240 [==============================] - 0s 1ms/step - loss: 26.7934\n",
            "Epoch 41/100\n",
            "240/240 [==============================] - 0s 1ms/step - loss: 26.6565\n",
            "Epoch 42/100\n",
            "240/240 [==============================] - 0s 1ms/step - loss: 26.5192\n",
            "Epoch 43/100\n",
            "240/240 [==============================] - 0s 1ms/step - loss: 26.7445\n",
            "Epoch 44/100\n",
            "240/240 [==============================] - 0s 1ms/step - loss: 27.3330\n",
            "Epoch 45/100\n",
            "240/240 [==============================] - 0s 1ms/step - loss: 26.8974\n",
            "Epoch 46/100\n",
            "240/240 [==============================] - 0s 1ms/step - loss: 26.6938\n",
            "Epoch 47/100\n",
            "240/240 [==============================] - 0s 1ms/step - loss: 26.4012\n",
            "Epoch 48/100\n",
            "240/240 [==============================] - 0s 1ms/step - loss: 26.3972\n",
            "Epoch 49/100\n",
            "240/240 [==============================] - 0s 1ms/step - loss: 26.5532\n",
            "Epoch 50/100\n",
            "240/240 [==============================] - 0s 1ms/step - loss: 26.3687\n",
            "Epoch 51/100\n",
            "240/240 [==============================] - 0s 1ms/step - loss: 27.3380\n",
            "Epoch 52/100\n",
            "240/240 [==============================] - 0s 1ms/step - loss: 26.3230\n",
            "Epoch 53/100\n",
            "240/240 [==============================] - 0s 1ms/step - loss: 26.3128\n",
            "Epoch 54/100\n",
            "240/240 [==============================] - 0s 1ms/step - loss: 26.7736\n",
            "Epoch 55/100\n",
            "240/240 [==============================] - 0s 1ms/step - loss: 26.3143\n",
            "Epoch 56/100\n",
            "240/240 [==============================] - 0s 1ms/step - loss: 26.1903\n",
            "Epoch 57/100\n",
            "240/240 [==============================] - 0s 1ms/step - loss: 26.2879\n",
            "Epoch 58/100\n",
            "240/240 [==============================] - 0s 1ms/step - loss: 26.5170\n",
            "Epoch 59/100\n",
            "240/240 [==============================] - 0s 1ms/step - loss: 26.8050\n",
            "Epoch 60/100\n",
            "240/240 [==============================] - 0s 1ms/step - loss: 26.3796\n",
            "Epoch 61/100\n",
            "240/240 [==============================] - 0s 1ms/step - loss: 26.0394\n",
            "Epoch 62/100\n",
            "240/240 [==============================] - 0s 1ms/step - loss: 26.6469\n",
            "Epoch 63/100\n",
            "240/240 [==============================] - 0s 1ms/step - loss: 26.4907\n",
            "Epoch 64/100\n",
            "240/240 [==============================] - 0s 1ms/step - loss: 26.2039\n",
            "Epoch 65/100\n",
            "240/240 [==============================] - 0s 1ms/step - loss: 26.4055\n",
            "Epoch 66/100\n",
            "240/240 [==============================] - 0s 1ms/step - loss: 26.7982\n",
            "Epoch 67/100\n",
            "240/240 [==============================] - 0s 1ms/step - loss: 26.3766\n",
            "Epoch 68/100\n",
            "240/240 [==============================] - 0s 1ms/step - loss: 26.3871\n",
            "Epoch 69/100\n",
            "240/240 [==============================] - 0s 1ms/step - loss: 26.3894\n",
            "Epoch 70/100\n",
            "240/240 [==============================] - 0s 1ms/step - loss: 26.2631\n",
            "Epoch 71/100\n",
            "240/240 [==============================] - 0s 1ms/step - loss: 26.2027\n",
            "Epoch 72/100\n",
            "240/240 [==============================] - 0s 1ms/step - loss: 26.6482\n",
            "Epoch 73/100\n",
            "240/240 [==============================] - 0s 1ms/step - loss: 26.8518\n",
            "Epoch 74/100\n",
            "240/240 [==============================] - 0s 1ms/step - loss: 26.2409\n",
            "Epoch 75/100\n",
            "240/240 [==============================] - 0s 1ms/step - loss: 26.8282\n",
            "Epoch 76/100\n",
            "240/240 [==============================] - 0s 1ms/step - loss: 26.8706\n",
            "Epoch 77/100\n",
            "240/240 [==============================] - 0s 1ms/step - loss: 26.0929\n",
            "Epoch 78/100\n",
            "240/240 [==============================] - 0s 1ms/step - loss: 26.7096\n",
            "Epoch 79/100\n",
            "240/240 [==============================] - 0s 1ms/step - loss: 26.1588\n",
            "Epoch 80/100\n",
            "240/240 [==============================] - 0s 1ms/step - loss: 26.3418\n",
            "Epoch 81/100\n",
            "240/240 [==============================] - 0s 1ms/step - loss: 26.0267\n",
            "Epoch 82/100\n",
            "240/240 [==============================] - 0s 1ms/step - loss: 26.2334\n",
            "Epoch 83/100\n",
            "240/240 [==============================] - 0s 1ms/step - loss: 26.3404\n",
            "Epoch 84/100\n",
            "240/240 [==============================] - 0s 1ms/step - loss: 26.3667\n",
            "Epoch 85/100\n",
            "240/240 [==============================] - 0s 1ms/step - loss: 26.1930\n",
            "Epoch 86/100\n",
            "240/240 [==============================] - 0s 1ms/step - loss: 26.3492\n",
            "Epoch 87/100\n",
            "240/240 [==============================] - 0s 1ms/step - loss: 26.8372\n",
            "Epoch 88/100\n",
            "240/240 [==============================] - 0s 1ms/step - loss: 26.4401\n",
            "Epoch 89/100\n",
            "240/240 [==============================] - 0s 1ms/step - loss: 26.7122\n",
            "Epoch 90/100\n",
            "240/240 [==============================] - 0s 1ms/step - loss: 26.1982\n",
            "Epoch 91/100\n",
            "240/240 [==============================] - 0s 1ms/step - loss: 26.1681\n",
            "Epoch 92/100\n",
            "240/240 [==============================] - 0s 1ms/step - loss: 26.9196\n",
            "Epoch 93/100\n",
            "240/240 [==============================] - 0s 1ms/step - loss: 26.4456\n",
            "Epoch 94/100\n",
            "240/240 [==============================] - 0s 1ms/step - loss: 26.4944\n",
            "Epoch 95/100\n",
            "240/240 [==============================] - 0s 1ms/step - loss: 26.2349\n",
            "Epoch 96/100\n",
            "240/240 [==============================] - 0s 1ms/step - loss: 26.1370\n",
            "Epoch 97/100\n",
            "240/240 [==============================] - 0s 1ms/step - loss: 26.0345\n",
            "Epoch 98/100\n",
            "240/240 [==============================] - 0s 1ms/step - loss: 26.5989\n",
            "Epoch 99/100\n",
            "240/240 [==============================] - 0s 1ms/step - loss: 26.4356\n",
            "Epoch 100/100\n",
            "240/240 [==============================] - 0s 1ms/step - loss: 26.5571\n"
          ]
        },
        {
          "output_type": "execute_result",
          "data": {
            "text/plain": [
              "<keras.callbacks.History at 0x7f9f1a834b50>"
            ]
          },
          "metadata": {},
          "execution_count": 13
        }
      ]
    },
    {
      "cell_type": "code",
      "metadata": {
        "colab": {
          "base_uri": "https://localhost:8080/"
        },
        "id": "Q-qMizHFjxl9",
        "outputId": "40783314-4ac4-47c3-8459-0712f0b8a139"
      },
      "source": [
        "y_pred=ann.predict(x_test)\n",
        "np.set_printoptions(precision=2)\n",
        "print(y_pred)\n",
        "print(y_test)\n",
        "print(y_train)"
      ],
      "execution_count": 14,
      "outputs": [
        {
          "output_type": "stream",
          "name": "stdout",
          "text": [
            "[[444.42]\n",
            " [457.56]\n",
            " [472.42]\n",
            " ...\n",
            " [432.57]\n",
            " [441.92]\n",
            " [466.41]]\n",
            "[450.25 457.46 482.8  ... 434.22 440.07 460.91]\n",
            "[460.73 438.52 482.82 ... 440.99 439.4  475.58]\n"
          ]
        }
      ]
    }
  ]
}